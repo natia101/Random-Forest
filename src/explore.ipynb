{
    "cells": [
        {
            "cell_type": "code",
            "execution_count": 4,
            "metadata": {},
            "outputs": [],
            "source": [
                "import pandas as pd\n",
                "import numpy as np\n",
                "import matplotlib.pyplot as plt\n",
                "from sklearn.ensemble import RandomForestClassifier,GradientBoostingClassifier\n",
                "from sklearn.model_selection import train_test_split\n",
                "from sklearn.metrics import classification_report\n",
                "from sklearn.model_selection import RandomizedSearchCV\n",
                "import xgboost as xgb\n",
                "from sklearn.model_selection import GridSearchCV"
            ]
        },
        {
            "cell_type": "code",
            "execution_count": 5,
            "metadata": {},
            "outputs": [],
            "source": [
                "url='https://raw.githubusercontent.com/4GeeksAcademy/random-forest-project-tutorial/main/titanic_train.csv'\n",
                "df = pd.read_csv(url, index_col=[0,3])"
            ]
        },
        {
            "cell_type": "code",
            "execution_count": 6,
            "metadata": {},
            "outputs": [
                {
                    "data": {
                        "text/plain": [
                            "<function pandas.io.parsers.readers.read_csv(filepath_or_buffer: 'FilePath | ReadCsvBuffer[bytes] | ReadCsvBuffer[str]', sep: 'str | None | lib.NoDefault' = <no_default>, delimiter: 'str | None | lib.NoDefault' = None, header: \"int | Sequence[int] | None | Literal['infer']\" = 'infer', names: 'Sequence[Hashable] | None | lib.NoDefault' = <no_default>, index_col: 'IndexLabel | Literal[False] | None' = None, usecols=None, squeeze: 'bool | None' = None, prefix: 'str | lib.NoDefault' = <no_default>, mangle_dupe_cols: 'bool' = True, dtype: 'DtypeArg | None' = None, engine: 'CSVEngine | None' = None, converters=None, true_values=None, false_values=None, skipinitialspace: 'bool' = False, skiprows=None, skipfooter: 'int' = 0, nrows: 'int | None' = None, na_values=None, keep_default_na: 'bool' = True, na_filter: 'bool' = True, verbose: 'bool' = False, skip_blank_lines: 'bool' = True, parse_dates=None, infer_datetime_format: 'bool' = False, keep_date_col: 'bool' = False, date_parser=None, dayfirst: 'bool' = False, cache_dates: 'bool' = True, iterator: 'bool' = False, chunksize: 'int | None' = None, compression: 'CompressionOptions' = 'infer', thousands: 'str | None' = None, decimal: 'str' = '.', lineterminator: 'str | None' = None, quotechar: 'str' = '\"', quoting: 'int' = 0, doublequote: 'bool' = True, escapechar: 'str | None' = None, comment: 'str | None' = None, encoding: 'str | None' = None, encoding_errors: 'str | None' = 'strict', dialect: 'str | csv.Dialect | None' = None, error_bad_lines: 'bool | None' = None, warn_bad_lines: 'bool | None' = None, on_bad_lines=None, delim_whitespace: 'bool' = False, low_memory=True, memory_map: 'bool' = False, float_precision: \"Literal[('high', 'legacy')] | None\" = None, storage_options: 'StorageOptions' = None) -> 'DataFrame | TextFileReader'>"
                        ]
                    },
                    "execution_count": 6,
                    "metadata": {},
                    "output_type": "execute_result"
                }
            ],
            "source": [
                "pd.read_csv"
            ]
        },
        {
            "cell_type": "code",
            "execution_count": 5,
            "metadata": {},
            "outputs": [
                {
                    "data": {
                        "text/html": [
                            "<div>\n",
                            "<style scoped>\n",
                            "    .dataframe tbody tr th:only-of-type {\n",
                            "        vertical-align: middle;\n",
                            "    }\n",
                            "\n",
                            "    .dataframe tbody tr th {\n",
                            "        vertical-align: top;\n",
                            "    }\n",
                            "\n",
                            "    .dataframe thead th {\n",
                            "        text-align: right;\n",
                            "    }\n",
                            "</style>\n",
                            "<table border=\"1\" class=\"dataframe\">\n",
                            "  <thead>\n",
                            "    <tr style=\"text-align: right;\">\n",
                            "      <th></th>\n",
                            "      <th>Survived</th>\n",
                            "      <th>Pclass</th>\n",
                            "      <th>Age</th>\n",
                            "      <th>SibSp</th>\n",
                            "      <th>Parch</th>\n",
                            "      <th>Fare</th>\n",
                            "    </tr>\n",
                            "  </thead>\n",
                            "  <tbody>\n",
                            "    <tr>\n",
                            "      <th>count</th>\n",
                            "      <td>891.000000</td>\n",
                            "      <td>891.000000</td>\n",
                            "      <td>714.000000</td>\n",
                            "      <td>891.000000</td>\n",
                            "      <td>891.000000</td>\n",
                            "      <td>891.000000</td>\n",
                            "    </tr>\n",
                            "    <tr>\n",
                            "      <th>mean</th>\n",
                            "      <td>0.383838</td>\n",
                            "      <td>2.308642</td>\n",
                            "      <td>29.699118</td>\n",
                            "      <td>0.523008</td>\n",
                            "      <td>0.381594</td>\n",
                            "      <td>32.204208</td>\n",
                            "    </tr>\n",
                            "    <tr>\n",
                            "      <th>std</th>\n",
                            "      <td>0.486592</td>\n",
                            "      <td>0.836071</td>\n",
                            "      <td>14.526497</td>\n",
                            "      <td>1.102743</td>\n",
                            "      <td>0.806057</td>\n",
                            "      <td>49.693429</td>\n",
                            "    </tr>\n",
                            "    <tr>\n",
                            "      <th>min</th>\n",
                            "      <td>0.000000</td>\n",
                            "      <td>1.000000</td>\n",
                            "      <td>0.420000</td>\n",
                            "      <td>0.000000</td>\n",
                            "      <td>0.000000</td>\n",
                            "      <td>0.000000</td>\n",
                            "    </tr>\n",
                            "    <tr>\n",
                            "      <th>25%</th>\n",
                            "      <td>0.000000</td>\n",
                            "      <td>2.000000</td>\n",
                            "      <td>20.125000</td>\n",
                            "      <td>0.000000</td>\n",
                            "      <td>0.000000</td>\n",
                            "      <td>7.910400</td>\n",
                            "    </tr>\n",
                            "    <tr>\n",
                            "      <th>50%</th>\n",
                            "      <td>0.000000</td>\n",
                            "      <td>3.000000</td>\n",
                            "      <td>28.000000</td>\n",
                            "      <td>0.000000</td>\n",
                            "      <td>0.000000</td>\n",
                            "      <td>14.454200</td>\n",
                            "    </tr>\n",
                            "    <tr>\n",
                            "      <th>75%</th>\n",
                            "      <td>1.000000</td>\n",
                            "      <td>3.000000</td>\n",
                            "      <td>38.000000</td>\n",
                            "      <td>1.000000</td>\n",
                            "      <td>0.000000</td>\n",
                            "      <td>31.000000</td>\n",
                            "    </tr>\n",
                            "    <tr>\n",
                            "      <th>max</th>\n",
                            "      <td>1.000000</td>\n",
                            "      <td>3.000000</td>\n",
                            "      <td>80.000000</td>\n",
                            "      <td>8.000000</td>\n",
                            "      <td>6.000000</td>\n",
                            "      <td>512.329200</td>\n",
                            "    </tr>\n",
                            "  </tbody>\n",
                            "</table>\n",
                            "</div>"
                        ],
                        "text/plain": [
                            "         Survived      Pclass         Age       SibSp       Parch        Fare\n",
                            "count  891.000000  891.000000  714.000000  891.000000  891.000000  891.000000\n",
                            "mean     0.383838    2.308642   29.699118    0.523008    0.381594   32.204208\n",
                            "std      0.486592    0.836071   14.526497    1.102743    0.806057   49.693429\n",
                            "min      0.000000    1.000000    0.420000    0.000000    0.000000    0.000000\n",
                            "25%      0.000000    2.000000   20.125000    0.000000    0.000000    7.910400\n",
                            "50%      0.000000    3.000000   28.000000    0.000000    0.000000   14.454200\n",
                            "75%      1.000000    3.000000   38.000000    1.000000    0.000000   31.000000\n",
                            "max      1.000000    3.000000   80.000000    8.000000    6.000000  512.329200"
                        ]
                    },
                    "execution_count": 5,
                    "metadata": {},
                    "output_type": "execute_result"
                }
            ],
            "source": [
                "df.describe()"
            ]
        },
        {
            "cell_type": "code",
            "execution_count": 6,
            "metadata": {},
            "outputs": [
                {
                    "data": {
                        "text/html": [
                            "<div>\n",
                            "<style scoped>\n",
                            "    .dataframe tbody tr th:only-of-type {\n",
                            "        vertical-align: middle;\n",
                            "    }\n",
                            "\n",
                            "    .dataframe tbody tr th {\n",
                            "        vertical-align: top;\n",
                            "    }\n",
                            "\n",
                            "    .dataframe thead th {\n",
                            "        text-align: right;\n",
                            "    }\n",
                            "</style>\n",
                            "<table border=\"1\" class=\"dataframe\">\n",
                            "  <thead>\n",
                            "    <tr style=\"text-align: right;\">\n",
                            "      <th></th>\n",
                            "      <th>Sex</th>\n",
                            "      <th>Ticket</th>\n",
                            "      <th>Cabin</th>\n",
                            "      <th>Embarked</th>\n",
                            "    </tr>\n",
                            "  </thead>\n",
                            "  <tbody>\n",
                            "    <tr>\n",
                            "      <th>count</th>\n",
                            "      <td>891</td>\n",
                            "      <td>891</td>\n",
                            "      <td>204</td>\n",
                            "      <td>889</td>\n",
                            "    </tr>\n",
                            "    <tr>\n",
                            "      <th>unique</th>\n",
                            "      <td>2</td>\n",
                            "      <td>681</td>\n",
                            "      <td>147</td>\n",
                            "      <td>3</td>\n",
                            "    </tr>\n",
                            "    <tr>\n",
                            "      <th>top</th>\n",
                            "      <td>male</td>\n",
                            "      <td>347082</td>\n",
                            "      <td>B96 B98</td>\n",
                            "      <td>S</td>\n",
                            "    </tr>\n",
                            "    <tr>\n",
                            "      <th>freq</th>\n",
                            "      <td>577</td>\n",
                            "      <td>7</td>\n",
                            "      <td>4</td>\n",
                            "      <td>644</td>\n",
                            "    </tr>\n",
                            "  </tbody>\n",
                            "</table>\n",
                            "</div>"
                        ],
                        "text/plain": [
                            "         Sex  Ticket    Cabin Embarked\n",
                            "count    891     891      204      889\n",
                            "unique     2     681      147        3\n",
                            "top     male  347082  B96 B98        S\n",
                            "freq     577       7        4      644"
                        ]
                    },
                    "execution_count": 6,
                    "metadata": {},
                    "output_type": "execute_result"
                }
            ],
            "source": [
                "df.describe(include='object')"
            ]
        },
        {
            "cell_type": "code",
            "execution_count": 7,
            "metadata": {},
            "outputs": [
                {
                    "data": {
                        "text/html": [
                            "<div>\n",
                            "<style scoped>\n",
                            "    .dataframe tbody tr th:only-of-type {\n",
                            "        vertical-align: middle;\n",
                            "    }\n",
                            "\n",
                            "    .dataframe tbody tr th {\n",
                            "        vertical-align: top;\n",
                            "    }\n",
                            "\n",
                            "    .dataframe thead th {\n",
                            "        text-align: right;\n",
                            "    }\n",
                            "</style>\n",
                            "<table border=\"1\" class=\"dataframe\">\n",
                            "  <thead>\n",
                            "    <tr style=\"text-align: right;\">\n",
                            "      <th></th>\n",
                            "      <th></th>\n",
                            "      <th>Survived</th>\n",
                            "      <th>Pclass</th>\n",
                            "      <th>Sex</th>\n",
                            "      <th>Age</th>\n",
                            "      <th>SibSp</th>\n",
                            "      <th>Parch</th>\n",
                            "      <th>Ticket</th>\n",
                            "      <th>Fare</th>\n",
                            "      <th>Cabin</th>\n",
                            "      <th>Embarked</th>\n",
                            "    </tr>\n",
                            "    <tr>\n",
                            "      <th>PassengerId</th>\n",
                            "      <th>Name</th>\n",
                            "      <th></th>\n",
                            "      <th></th>\n",
                            "      <th></th>\n",
                            "      <th></th>\n",
                            "      <th></th>\n",
                            "      <th></th>\n",
                            "      <th></th>\n",
                            "      <th></th>\n",
                            "      <th></th>\n",
                            "      <th></th>\n",
                            "    </tr>\n",
                            "  </thead>\n",
                            "  <tbody>\n",
                            "    <tr>\n",
                            "      <th>837</th>\n",
                            "      <th>Pasic, Mr. Jakob</th>\n",
                            "      <td>0</td>\n",
                            "      <td>3</td>\n",
                            "      <td>male</td>\n",
                            "      <td>21.0</td>\n",
                            "      <td>0</td>\n",
                            "      <td>0</td>\n",
                            "      <td>315097</td>\n",
                            "      <td>8.6625</td>\n",
                            "      <td>NaN</td>\n",
                            "      <td>S</td>\n",
                            "    </tr>\n",
                            "    <tr>\n",
                            "      <th>84</th>\n",
                            "      <th>Carrau, Mr. Francisco M</th>\n",
                            "      <td>0</td>\n",
                            "      <td>1</td>\n",
                            "      <td>male</td>\n",
                            "      <td>28.0</td>\n",
                            "      <td>0</td>\n",
                            "      <td>0</td>\n",
                            "      <td>113059</td>\n",
                            "      <td>47.1000</td>\n",
                            "      <td>NaN</td>\n",
                            "      <td>S</td>\n",
                            "    </tr>\n",
                            "    <tr>\n",
                            "      <th>690</th>\n",
                            "      <th>Madill, Miss. Georgette Alexandra</th>\n",
                            "      <td>1</td>\n",
                            "      <td>1</td>\n",
                            "      <td>female</td>\n",
                            "      <td>15.0</td>\n",
                            "      <td>0</td>\n",
                            "      <td>1</td>\n",
                            "      <td>24160</td>\n",
                            "      <td>211.3375</td>\n",
                            "      <td>B5</td>\n",
                            "      <td>S</td>\n",
                            "    </tr>\n",
                            "    <tr>\n",
                            "      <th>116</th>\n",
                            "      <th>Pekoniemi, Mr. Edvard</th>\n",
                            "      <td>0</td>\n",
                            "      <td>3</td>\n",
                            "      <td>male</td>\n",
                            "      <td>21.0</td>\n",
                            "      <td>0</td>\n",
                            "      <td>0</td>\n",
                            "      <td>STON/O 2. 3101294</td>\n",
                            "      <td>7.9250</td>\n",
                            "      <td>NaN</td>\n",
                            "      <td>S</td>\n",
                            "    </tr>\n",
                            "    <tr>\n",
                            "      <th>563</th>\n",
                            "      <th>Norman, Mr. Robert Douglas</th>\n",
                            "      <td>0</td>\n",
                            "      <td>2</td>\n",
                            "      <td>male</td>\n",
                            "      <td>28.0</td>\n",
                            "      <td>0</td>\n",
                            "      <td>0</td>\n",
                            "      <td>218629</td>\n",
                            "      <td>13.5000</td>\n",
                            "      <td>NaN</td>\n",
                            "      <td>S</td>\n",
                            "    </tr>\n",
                            "    <tr>\n",
                            "      <th>292</th>\n",
                            "      <th>Bishop, Mrs. Dickinson H (Helen Walton)</th>\n",
                            "      <td>1</td>\n",
                            "      <td>1</td>\n",
                            "      <td>female</td>\n",
                            "      <td>19.0</td>\n",
                            "      <td>1</td>\n",
                            "      <td>0</td>\n",
                            "      <td>11967</td>\n",
                            "      <td>91.0792</td>\n",
                            "      <td>B49</td>\n",
                            "      <td>C</td>\n",
                            "    </tr>\n",
                            "    <tr>\n",
                            "      <th>776</th>\n",
                            "      <th>Myhrman, Mr. Pehr Fabian Oliver Malkolm</th>\n",
                            "      <td>0</td>\n",
                            "      <td>3</td>\n",
                            "      <td>male</td>\n",
                            "      <td>18.0</td>\n",
                            "      <td>0</td>\n",
                            "      <td>0</td>\n",
                            "      <td>347078</td>\n",
                            "      <td>7.7500</td>\n",
                            "      <td>NaN</td>\n",
                            "      <td>S</td>\n",
                            "    </tr>\n",
                            "    <tr>\n",
                            "      <th>402</th>\n",
                            "      <th>Adams, Mr. John</th>\n",
                            "      <td>0</td>\n",
                            "      <td>3</td>\n",
                            "      <td>male</td>\n",
                            "      <td>26.0</td>\n",
                            "      <td>0</td>\n",
                            "      <td>0</td>\n",
                            "      <td>341826</td>\n",
                            "      <td>8.0500</td>\n",
                            "      <td>NaN</td>\n",
                            "      <td>S</td>\n",
                            "    </tr>\n",
                            "    <tr>\n",
                            "      <th>246</th>\n",
                            "      <th>Minahan, Dr. William Edward</th>\n",
                            "      <td>0</td>\n",
                            "      <td>1</td>\n",
                            "      <td>male</td>\n",
                            "      <td>44.0</td>\n",
                            "      <td>2</td>\n",
                            "      <td>0</td>\n",
                            "      <td>19928</td>\n",
                            "      <td>90.0000</td>\n",
                            "      <td>C78</td>\n",
                            "      <td>Q</td>\n",
                            "    </tr>\n",
                            "    <tr>\n",
                            "      <th>856</th>\n",
                            "      <th>Aks, Mrs. Sam (Leah Rosen)</th>\n",
                            "      <td>1</td>\n",
                            "      <td>3</td>\n",
                            "      <td>female</td>\n",
                            "      <td>18.0</td>\n",
                            "      <td>0</td>\n",
                            "      <td>1</td>\n",
                            "      <td>392091</td>\n",
                            "      <td>9.3500</td>\n",
                            "      <td>NaN</td>\n",
                            "      <td>S</td>\n",
                            "    </tr>\n",
                            "  </tbody>\n",
                            "</table>\n",
                            "</div>"
                        ],
                        "text/plain": [
                            "                                                     Survived  Pclass     Sex  \\\n",
                            "PassengerId Name                                                                \n",
                            "837         Pasic, Mr. Jakob                                0       3    male   \n",
                            "84          Carrau, Mr. Francisco M                         0       1    male   \n",
                            "690         Madill, Miss. Georgette Alexandra               1       1  female   \n",
                            "116         Pekoniemi, Mr. Edvard                           0       3    male   \n",
                            "563         Norman, Mr. Robert Douglas                      0       2    male   \n",
                            "292         Bishop, Mrs. Dickinson H (Helen Walton)         1       1  female   \n",
                            "776         Myhrman, Mr. Pehr Fabian Oliver Malkolm         0       3    male   \n",
                            "402         Adams, Mr. John                                 0       3    male   \n",
                            "246         Minahan, Dr. William Edward                     0       1    male   \n",
                            "856         Aks, Mrs. Sam (Leah Rosen)                      1       3  female   \n",
                            "\n",
                            "                                                      Age  SibSp  Parch  \\\n",
                            "PassengerId Name                                                          \n",
                            "837         Pasic, Mr. Jakob                         21.0      0      0   \n",
                            "84          Carrau, Mr. Francisco M                  28.0      0      0   \n",
                            "690         Madill, Miss. Georgette Alexandra        15.0      0      1   \n",
                            "116         Pekoniemi, Mr. Edvard                    21.0      0      0   \n",
                            "563         Norman, Mr. Robert Douglas               28.0      0      0   \n",
                            "292         Bishop, Mrs. Dickinson H (Helen Walton)  19.0      1      0   \n",
                            "776         Myhrman, Mr. Pehr Fabian Oliver Malkolm  18.0      0      0   \n",
                            "402         Adams, Mr. John                          26.0      0      0   \n",
                            "246         Minahan, Dr. William Edward              44.0      2      0   \n",
                            "856         Aks, Mrs. Sam (Leah Rosen)               18.0      0      1   \n",
                            "\n",
                            "                                                                Ticket  \\\n",
                            "PassengerId Name                                                         \n",
                            "837         Pasic, Mr. Jakob                                    315097   \n",
                            "84          Carrau, Mr. Francisco M                             113059   \n",
                            "690         Madill, Miss. Georgette Alexandra                    24160   \n",
                            "116         Pekoniemi, Mr. Edvard                    STON/O 2. 3101294   \n",
                            "563         Norman, Mr. Robert Douglas                          218629   \n",
                            "292         Bishop, Mrs. Dickinson H (Helen Walton)              11967   \n",
                            "776         Myhrman, Mr. Pehr Fabian Oliver Malkolm             347078   \n",
                            "402         Adams, Mr. John                                     341826   \n",
                            "246         Minahan, Dr. William Edward                          19928   \n",
                            "856         Aks, Mrs. Sam (Leah Rosen)                          392091   \n",
                            "\n",
                            "                                                         Fare Cabin Embarked  \n",
                            "PassengerId Name                                                              \n",
                            "837         Pasic, Mr. Jakob                           8.6625   NaN        S  \n",
                            "84          Carrau, Mr. Francisco M                   47.1000   NaN        S  \n",
                            "690         Madill, Miss. Georgette Alexandra        211.3375    B5        S  \n",
                            "116         Pekoniemi, Mr. Edvard                      7.9250   NaN        S  \n",
                            "563         Norman, Mr. Robert Douglas                13.5000   NaN        S  \n",
                            "292         Bishop, Mrs. Dickinson H (Helen Walton)   91.0792   B49        C  \n",
                            "776         Myhrman, Mr. Pehr Fabian Oliver Malkolm    7.7500   NaN        S  \n",
                            "402         Adams, Mr. John                            8.0500   NaN        S  \n",
                            "246         Minahan, Dr. William Edward               90.0000   C78        Q  \n",
                            "856         Aks, Mrs. Sam (Leah Rosen)                 9.3500   NaN        S  "
                        ]
                    },
                    "execution_count": 7,
                    "metadata": {},
                    "output_type": "execute_result"
                }
            ],
            "source": [
                "df.sample(10)"
            ]
        },
        {
            "cell_type": "code",
            "execution_count": 8,
            "metadata": {},
            "outputs": [],
            "source": [
                "df=df.drop(columns='Cabin')"
            ]
        },
        {
            "cell_type": "code",
            "execution_count": 9,
            "metadata": {},
            "outputs": [],
            "source": [
                "df['Age']=df['Age'].fillna(df['Age'].mean())\n",
                "df['Embarked']=df['Embarked'].fillna(df['Embarked'].mode()[0])"
            ]
        },
        {
            "cell_type": "code",
            "execution_count": 10,
            "metadata": {},
            "outputs": [
                {
                    "name": "stdout",
                    "output_type": "stream",
                    "text": [
                        "<class 'pandas.core.frame.DataFrame'>\n",
                        "MultiIndex: 891 entries, (1, 'Braund, Mr. Owen Harris') to (891, 'Dooley, Mr. Patrick')\n",
                        "Data columns (total 9 columns):\n",
                        " #   Column    Non-Null Count  Dtype  \n",
                        "---  ------    --------------  -----  \n",
                        " 0   Survived  891 non-null    int64  \n",
                        " 1   Pclass    891 non-null    int64  \n",
                        " 2   Sex       891 non-null    object \n",
                        " 3   Age       891 non-null    float64\n",
                        " 4   SibSp     891 non-null    int64  \n",
                        " 5   Parch     891 non-null    int64  \n",
                        " 6   Ticket    891 non-null    object \n",
                        " 7   Fare      891 non-null    float64\n",
                        " 8   Embarked  891 non-null    object \n",
                        "dtypes: float64(2), int64(4), object(3)\n",
                        "memory usage: 144.7+ KB\n"
                    ]
                }
            ],
            "source": [
                "df.info()"
            ]
        },
        {
            "cell_type": "code",
            "execution_count": 11,
            "metadata": {},
            "outputs": [],
            "source": [
                "df[['Sex','Embarked','Survived']]=df[['Sex','Embarked','Survived']].astype('category')"
            ]
        },
        {
            "cell_type": "code",
            "execution_count": 7,
            "metadata": {},
            "outputs": [],
            "source": [
                "y=df['Survived']\n",
                "X=df.drop(columns=['Ticket','Survived']).copy()"
            ]
        },
        {
            "cell_type": "code",
            "execution_count": 8,
            "metadata": {},
            "outputs": [
                {
                    "data": {
                        "text/html": [
                            "<div>\n",
                            "<style scoped>\n",
                            "    .dataframe tbody tr th:only-of-type {\n",
                            "        vertical-align: middle;\n",
                            "    }\n",
                            "\n",
                            "    .dataframe tbody tr th {\n",
                            "        vertical-align: top;\n",
                            "    }\n",
                            "\n",
                            "    .dataframe thead th {\n",
                            "        text-align: right;\n",
                            "    }\n",
                            "</style>\n",
                            "<table border=\"1\" class=\"dataframe\">\n",
                            "  <thead>\n",
                            "    <tr style=\"text-align: right;\">\n",
                            "      <th></th>\n",
                            "      <th>Sex</th>\n",
                            "      <th>Ticket</th>\n",
                            "      <th>Cabin</th>\n",
                            "      <th>Embarked</th>\n",
                            "    </tr>\n",
                            "  </thead>\n",
                            "  <tbody>\n",
                            "    <tr>\n",
                            "      <th>count</th>\n",
                            "      <td>891</td>\n",
                            "      <td>891</td>\n",
                            "      <td>204</td>\n",
                            "      <td>889</td>\n",
                            "    </tr>\n",
                            "    <tr>\n",
                            "      <th>unique</th>\n",
                            "      <td>2</td>\n",
                            "      <td>681</td>\n",
                            "      <td>147</td>\n",
                            "      <td>3</td>\n",
                            "    </tr>\n",
                            "    <tr>\n",
                            "      <th>top</th>\n",
                            "      <td>male</td>\n",
                            "      <td>347082</td>\n",
                            "      <td>B96 B98</td>\n",
                            "      <td>S</td>\n",
                            "    </tr>\n",
                            "    <tr>\n",
                            "      <th>freq</th>\n",
                            "      <td>577</td>\n",
                            "      <td>7</td>\n",
                            "      <td>4</td>\n",
                            "      <td>644</td>\n",
                            "    </tr>\n",
                            "  </tbody>\n",
                            "</table>\n",
                            "</div>"
                        ],
                        "text/plain": [
                            "         Sex  Ticket    Cabin Embarked\n",
                            "count    891     891      204      889\n",
                            "unique     2     681      147        3\n",
                            "top     male  347082  B96 B98        S\n",
                            "freq     577       7        4      644"
                        ]
                    },
                    "execution_count": 8,
                    "metadata": {},
                    "output_type": "execute_result"
                }
            ],
            "source": [
                "\n",
                "df.describe(include='object')"
            ]
        },
        {
            "cell_type": "code",
            "execution_count": 9,
            "metadata": {},
            "outputs": [
                {
                    "data": {
                        "text/html": [
                            "<div>\n",
                            "<style scoped>\n",
                            "    .dataframe tbody tr th:only-of-type {\n",
                            "        vertical-align: middle;\n",
                            "    }\n",
                            "\n",
                            "    .dataframe tbody tr th {\n",
                            "        vertical-align: top;\n",
                            "    }\n",
                            "\n",
                            "    .dataframe thead th {\n",
                            "        text-align: right;\n",
                            "    }\n",
                            "</style>\n",
                            "<table border=\"1\" class=\"dataframe\">\n",
                            "  <thead>\n",
                            "    <tr style=\"text-align: right;\">\n",
                            "      <th></th>\n",
                            "      <th></th>\n",
                            "      <th>Survived</th>\n",
                            "      <th>Pclass</th>\n",
                            "      <th>Sex</th>\n",
                            "      <th>Age</th>\n",
                            "      <th>SibSp</th>\n",
                            "      <th>Parch</th>\n",
                            "      <th>Ticket</th>\n",
                            "      <th>Fare</th>\n",
                            "      <th>Cabin</th>\n",
                            "      <th>Embarked</th>\n",
                            "    </tr>\n",
                            "    <tr>\n",
                            "      <th>PassengerId</th>\n",
                            "      <th>Name</th>\n",
                            "      <th></th>\n",
                            "      <th></th>\n",
                            "      <th></th>\n",
                            "      <th></th>\n",
                            "      <th></th>\n",
                            "      <th></th>\n",
                            "      <th></th>\n",
                            "      <th></th>\n",
                            "      <th></th>\n",
                            "      <th></th>\n",
                            "    </tr>\n",
                            "  </thead>\n",
                            "  <tbody>\n",
                            "    <tr>\n",
                            "      <th>252</th>\n",
                            "      <th>Strom, Mrs. Wilhelm (Elna Matilda Persson)</th>\n",
                            "      <td>0</td>\n",
                            "      <td>3</td>\n",
                            "      <td>female</td>\n",
                            "      <td>29.0</td>\n",
                            "      <td>1</td>\n",
                            "      <td>1</td>\n",
                            "      <td>347054</td>\n",
                            "      <td>10.4625</td>\n",
                            "      <td>G6</td>\n",
                            "      <td>S</td>\n",
                            "    </tr>\n",
                            "    <tr>\n",
                            "      <th>331</th>\n",
                            "      <th>McCoy, Miss. Agnes</th>\n",
                            "      <td>1</td>\n",
                            "      <td>3</td>\n",
                            "      <td>female</td>\n",
                            "      <td>NaN</td>\n",
                            "      <td>2</td>\n",
                            "      <td>0</td>\n",
                            "      <td>367226</td>\n",
                            "      <td>23.2500</td>\n",
                            "      <td>NaN</td>\n",
                            "      <td>Q</td>\n",
                            "    </tr>\n",
                            "    <tr>\n",
                            "      <th>472</th>\n",
                            "      <th>Cacic, Mr. Luka</th>\n",
                            "      <td>0</td>\n",
                            "      <td>3</td>\n",
                            "      <td>male</td>\n",
                            "      <td>38.0</td>\n",
                            "      <td>0</td>\n",
                            "      <td>0</td>\n",
                            "      <td>315089</td>\n",
                            "      <td>8.6625</td>\n",
                            "      <td>NaN</td>\n",
                            "      <td>S</td>\n",
                            "    </tr>\n",
                            "    <tr>\n",
                            "      <th>196</th>\n",
                            "      <th>Lurette, Miss. Elise</th>\n",
                            "      <td>1</td>\n",
                            "      <td>1</td>\n",
                            "      <td>female</td>\n",
                            "      <td>58.0</td>\n",
                            "      <td>0</td>\n",
                            "      <td>0</td>\n",
                            "      <td>PC 17569</td>\n",
                            "      <td>146.5208</td>\n",
                            "      <td>B80</td>\n",
                            "      <td>C</td>\n",
                            "    </tr>\n",
                            "    <tr>\n",
                            "      <th>99</th>\n",
                            "      <th>Doling, Mrs. John T (Ada Julia Bone)</th>\n",
                            "      <td>1</td>\n",
                            "      <td>2</td>\n",
                            "      <td>female</td>\n",
                            "      <td>34.0</td>\n",
                            "      <td>0</td>\n",
                            "      <td>1</td>\n",
                            "      <td>231919</td>\n",
                            "      <td>23.0000</td>\n",
                            "      <td>NaN</td>\n",
                            "      <td>S</td>\n",
                            "    </tr>\n",
                            "    <tr>\n",
                            "      <th>530</th>\n",
                            "      <th>Hocking, Mr. Richard George</th>\n",
                            "      <td>0</td>\n",
                            "      <td>2</td>\n",
                            "      <td>male</td>\n",
                            "      <td>23.0</td>\n",
                            "      <td>2</td>\n",
                            "      <td>1</td>\n",
                            "      <td>29104</td>\n",
                            "      <td>11.5000</td>\n",
                            "      <td>NaN</td>\n",
                            "      <td>S</td>\n",
                            "    </tr>\n",
                            "    <tr>\n",
                            "      <th>377</th>\n",
                            "      <th>Landergren, Miss. Aurora Adelia</th>\n",
                            "      <td>1</td>\n",
                            "      <td>3</td>\n",
                            "      <td>female</td>\n",
                            "      <td>22.0</td>\n",
                            "      <td>0</td>\n",
                            "      <td>0</td>\n",
                            "      <td>C 7077</td>\n",
                            "      <td>7.2500</td>\n",
                            "      <td>NaN</td>\n",
                            "      <td>S</td>\n",
                            "    </tr>\n",
                            "    <tr>\n",
                            "      <th>70</th>\n",
                            "      <th>Kink, Mr. Vincenz</th>\n",
                            "      <td>0</td>\n",
                            "      <td>3</td>\n",
                            "      <td>male</td>\n",
                            "      <td>26.0</td>\n",
                            "      <td>2</td>\n",
                            "      <td>0</td>\n",
                            "      <td>315151</td>\n",
                            "      <td>8.6625</td>\n",
                            "      <td>NaN</td>\n",
                            "      <td>S</td>\n",
                            "    </tr>\n",
                            "    <tr>\n",
                            "      <th>730</th>\n",
                            "      <th>Ilmakangas, Miss. Pieta Sofia</th>\n",
                            "      <td>0</td>\n",
                            "      <td>3</td>\n",
                            "      <td>female</td>\n",
                            "      <td>25.0</td>\n",
                            "      <td>1</td>\n",
                            "      <td>0</td>\n",
                            "      <td>STON/O2. 3101271</td>\n",
                            "      <td>7.9250</td>\n",
                            "      <td>NaN</td>\n",
                            "      <td>S</td>\n",
                            "    </tr>\n",
                            "    <tr>\n",
                            "      <th>401</th>\n",
                            "      <th>Niskanen, Mr. Juha</th>\n",
                            "      <td>1</td>\n",
                            "      <td>3</td>\n",
                            "      <td>male</td>\n",
                            "      <td>39.0</td>\n",
                            "      <td>0</td>\n",
                            "      <td>0</td>\n",
                            "      <td>STON/O 2. 3101289</td>\n",
                            "      <td>7.9250</td>\n",
                            "      <td>NaN</td>\n",
                            "      <td>S</td>\n",
                            "    </tr>\n",
                            "  </tbody>\n",
                            "</table>\n",
                            "</div>"
                        ],
                        "text/plain": [
                            "                                                        Survived  Pclass  \\\n",
                            "PassengerId Name                                                           \n",
                            "252         Strom, Mrs. Wilhelm (Elna Matilda Persson)         0       3   \n",
                            "331         McCoy, Miss. Agnes                                 1       3   \n",
                            "472         Cacic, Mr. Luka                                    0       3   \n",
                            "196         Lurette, Miss. Elise                               1       1   \n",
                            "99          Doling, Mrs. John T (Ada Julia Bone)               1       2   \n",
                            "530         Hocking, Mr. Richard George                        0       2   \n",
                            "377         Landergren, Miss. Aurora Adelia                    1       3   \n",
                            "70          Kink, Mr. Vincenz                                  0       3   \n",
                            "730         Ilmakangas, Miss. Pieta Sofia                      0       3   \n",
                            "401         Niskanen, Mr. Juha                                 1       3   \n",
                            "\n",
                            "                                                           Sex   Age  SibSp  \\\n",
                            "PassengerId Name                                                              \n",
                            "252         Strom, Mrs. Wilhelm (Elna Matilda Persson)  female  29.0      1   \n",
                            "331         McCoy, Miss. Agnes                          female   NaN      2   \n",
                            "472         Cacic, Mr. Luka                               male  38.0      0   \n",
                            "196         Lurette, Miss. Elise                        female  58.0      0   \n",
                            "99          Doling, Mrs. John T (Ada Julia Bone)        female  34.0      0   \n",
                            "530         Hocking, Mr. Richard George                   male  23.0      2   \n",
                            "377         Landergren, Miss. Aurora Adelia             female  22.0      0   \n",
                            "70          Kink, Mr. Vincenz                             male  26.0      2   \n",
                            "730         Ilmakangas, Miss. Pieta Sofia               female  25.0      1   \n",
                            "401         Niskanen, Mr. Juha                            male  39.0      0   \n",
                            "\n",
                            "                                                        Parch  \\\n",
                            "PassengerId Name                                                \n",
                            "252         Strom, Mrs. Wilhelm (Elna Matilda Persson)      1   \n",
                            "331         McCoy, Miss. Agnes                              0   \n",
                            "472         Cacic, Mr. Luka                                 0   \n",
                            "196         Lurette, Miss. Elise                            0   \n",
                            "99          Doling, Mrs. John T (Ada Julia Bone)            1   \n",
                            "530         Hocking, Mr. Richard George                     1   \n",
                            "377         Landergren, Miss. Aurora Adelia                 0   \n",
                            "70          Kink, Mr. Vincenz                               0   \n",
                            "730         Ilmakangas, Miss. Pieta Sofia                   0   \n",
                            "401         Niskanen, Mr. Juha                              0   \n",
                            "\n",
                            "                                                                   Ticket  \\\n",
                            "PassengerId Name                                                            \n",
                            "252         Strom, Mrs. Wilhelm (Elna Matilda Persson)             347054   \n",
                            "331         McCoy, Miss. Agnes                                     367226   \n",
                            "472         Cacic, Mr. Luka                                        315089   \n",
                            "196         Lurette, Miss. Elise                                 PC 17569   \n",
                            "99          Doling, Mrs. John T (Ada Julia Bone)                   231919   \n",
                            "530         Hocking, Mr. Richard George                             29104   \n",
                            "377         Landergren, Miss. Aurora Adelia                        C 7077   \n",
                            "70          Kink, Mr. Vincenz                                      315151   \n",
                            "730         Ilmakangas, Miss. Pieta Sofia                STON/O2. 3101271   \n",
                            "401         Niskanen, Mr. Juha                          STON/O 2. 3101289   \n",
                            "\n",
                            "                                                            Fare Cabin  \\\n",
                            "PassengerId Name                                                         \n",
                            "252         Strom, Mrs. Wilhelm (Elna Matilda Persson)   10.4625    G6   \n",
                            "331         McCoy, Miss. Agnes                           23.2500   NaN   \n",
                            "472         Cacic, Mr. Luka                               8.6625   NaN   \n",
                            "196         Lurette, Miss. Elise                        146.5208   B80   \n",
                            "99          Doling, Mrs. John T (Ada Julia Bone)         23.0000   NaN   \n",
                            "530         Hocking, Mr. Richard George                  11.5000   NaN   \n",
                            "377         Landergren, Miss. Aurora Adelia               7.2500   NaN   \n",
                            "70          Kink, Mr. Vincenz                             8.6625   NaN   \n",
                            "730         Ilmakangas, Miss. Pieta Sofia                 7.9250   NaN   \n",
                            "401         Niskanen, Mr. Juha                            7.9250   NaN   \n",
                            "\n",
                            "                                                       Embarked  \n",
                            "PassengerId Name                                                 \n",
                            "252         Strom, Mrs. Wilhelm (Elna Matilda Persson)        S  \n",
                            "331         McCoy, Miss. Agnes                                Q  \n",
                            "472         Cacic, Mr. Luka                                   S  \n",
                            "196         Lurette, Miss. Elise                              C  \n",
                            "99          Doling, Mrs. John T (Ada Julia Bone)              S  \n",
                            "530         Hocking, Mr. Richard George                       S  \n",
                            "377         Landergren, Miss. Aurora Adelia                   S  \n",
                            "70          Kink, Mr. Vincenz                                 S  \n",
                            "730         Ilmakangas, Miss. Pieta Sofia                     S  \n",
                            "401         Niskanen, Mr. Juha                                S  "
                        ]
                    },
                    "execution_count": 9,
                    "metadata": {},
                    "output_type": "execute_result"
                }
            ],
            "source": [
                "df.sample(10)"
            ]
        },
        {
            "cell_type": "code",
            "execution_count": 10,
            "metadata": {},
            "outputs": [],
            "source": [
                "df=df.drop(columns='Cabin')"
            ]
        },
        {
            "cell_type": "code",
            "execution_count": 11,
            "metadata": {},
            "outputs": [],
            "source": [
                "df['Age']=df['Age'].fillna(df['Age'].mean())\n",
                "df['Embarked']=df['Embarked'].fillna(df['Embarked'].mode()[0])"
            ]
        },
        {
            "cell_type": "code",
            "execution_count": 12,
            "metadata": {},
            "outputs": [
                {
                    "name": "stdout",
                    "output_type": "stream",
                    "text": [
                        "<class 'pandas.core.frame.DataFrame'>\n",
                        "MultiIndex: 891 entries, (1, 'Braund, Mr. Owen Harris') to (891, 'Dooley, Mr. Patrick')\n",
                        "Data columns (total 9 columns):\n",
                        " #   Column    Non-Null Count  Dtype  \n",
                        "---  ------    --------------  -----  \n",
                        " 0   Survived  891 non-null    int64  \n",
                        " 1   Pclass    891 non-null    int64  \n",
                        " 2   Sex       891 non-null    object \n",
                        " 3   Age       891 non-null    float64\n",
                        " 4   SibSp     891 non-null    int64  \n",
                        " 5   Parch     891 non-null    int64  \n",
                        " 6   Ticket    891 non-null    object \n",
                        " 7   Fare      891 non-null    float64\n",
                        " 8   Embarked  891 non-null    object \n",
                        "dtypes: float64(2), int64(4), object(3)\n",
                        "memory usage: 144.7+ KB\n"
                    ]
                }
            ],
            "source": [
                "df.info()"
            ]
        },
        {
            "cell_type": "code",
            "execution_count": 13,
            "metadata": {},
            "outputs": [],
            "source": [
                "df[['Sex','Embarked','Survived']]=df[['Sex','Embarked','Survived']].astype('category')"
            ]
        },
        {
            "cell_type": "code",
            "execution_count": 14,
            "metadata": {},
            "outputs": [],
            "source": [
                "y=df['Survived']\n",
                "X=df.drop(columns=['Ticket','Survived']).copy()"
            ]
        },
        {
            "cell_type": "code",
            "execution_count": 15,
            "metadata": {},
            "outputs": [],
            "source": [
                "X['Sex']=X['Sex'].cat.codes"
            ]
        },
        {
            "cell_type": "code",
            "execution_count": 16,
            "metadata": {},
            "outputs": [],
            "source": [
                "X['Embarked']=X['Embarked'].cat.codes"
            ]
        },
        {
            "cell_type": "code",
            "execution_count": 17,
            "metadata": {},
            "outputs": [
                {
                    "data": {
                        "text/html": [
                            "<div>\n",
                            "<style scoped>\n",
                            "    .dataframe tbody tr th:only-of-type {\n",
                            "        vertical-align: middle;\n",
                            "    }\n",
                            "\n",
                            "    .dataframe tbody tr th {\n",
                            "        vertical-align: top;\n",
                            "    }\n",
                            "\n",
                            "    .dataframe thead th {\n",
                            "        text-align: right;\n",
                            "    }\n",
                            "</style>\n",
                            "<table border=\"1\" class=\"dataframe\">\n",
                            "  <thead>\n",
                            "    <tr style=\"text-align: right;\">\n",
                            "      <th></th>\n",
                            "      <th></th>\n",
                            "      <th>Pclass</th>\n",
                            "      <th>Sex</th>\n",
                            "      <th>Age</th>\n",
                            "      <th>SibSp</th>\n",
                            "      <th>Parch</th>\n",
                            "      <th>Fare</th>\n",
                            "      <th>Embarked</th>\n",
                            "    </tr>\n",
                            "    <tr>\n",
                            "      <th>PassengerId</th>\n",
                            "      <th>Name</th>\n",
                            "      <th></th>\n",
                            "      <th></th>\n",
                            "      <th></th>\n",
                            "      <th></th>\n",
                            "      <th></th>\n",
                            "      <th></th>\n",
                            "      <th></th>\n",
                            "    </tr>\n",
                            "  </thead>\n",
                            "  <tbody>\n",
                            "    <tr>\n",
                            "      <th>1</th>\n",
                            "      <th>Braund, Mr. Owen Harris</th>\n",
                            "      <td>3</td>\n",
                            "      <td>1</td>\n",
                            "      <td>22.0</td>\n",
                            "      <td>1</td>\n",
                            "      <td>0</td>\n",
                            "      <td>7.2500</td>\n",
                            "      <td>2</td>\n",
                            "    </tr>\n",
                            "    <tr>\n",
                            "      <th>2</th>\n",
                            "      <th>Cumings, Mrs. John Bradley (Florence Briggs Thayer)</th>\n",
                            "      <td>1</td>\n",
                            "      <td>0</td>\n",
                            "      <td>38.0</td>\n",
                            "      <td>1</td>\n",
                            "      <td>0</td>\n",
                            "      <td>71.2833</td>\n",
                            "      <td>0</td>\n",
                            "    </tr>\n",
                            "    <tr>\n",
                            "      <th>3</th>\n",
                            "      <th>Heikkinen, Miss. Laina</th>\n",
                            "      <td>3</td>\n",
                            "      <td>0</td>\n",
                            "      <td>26.0</td>\n",
                            "      <td>0</td>\n",
                            "      <td>0</td>\n",
                            "      <td>7.9250</td>\n",
                            "      <td>2</td>\n",
                            "    </tr>\n",
                            "    <tr>\n",
                            "      <th>4</th>\n",
                            "      <th>Futrelle, Mrs. Jacques Heath (Lily May Peel)</th>\n",
                            "      <td>1</td>\n",
                            "      <td>0</td>\n",
                            "      <td>35.0</td>\n",
                            "      <td>1</td>\n",
                            "      <td>0</td>\n",
                            "      <td>53.1000</td>\n",
                            "      <td>2</td>\n",
                            "    </tr>\n",
                            "    <tr>\n",
                            "      <th>5</th>\n",
                            "      <th>Allen, Mr. William Henry</th>\n",
                            "      <td>3</td>\n",
                            "      <td>1</td>\n",
                            "      <td>35.0</td>\n",
                            "      <td>0</td>\n",
                            "      <td>0</td>\n",
                            "      <td>8.0500</td>\n",
                            "      <td>2</td>\n",
                            "    </tr>\n",
                            "  </tbody>\n",
                            "</table>\n",
                            "</div>"
                        ],
                        "text/plain": [
                            "                                                                Pclass  Sex  \\\n",
                            "PassengerId Name                                                              \n",
                            "1           Braund, Mr. Owen Harris                                  3    1   \n",
                            "2           Cumings, Mrs. John Bradley (Florence Briggs Tha...       1    0   \n",
                            "3           Heikkinen, Miss. Laina                                   3    0   \n",
                            "4           Futrelle, Mrs. Jacques Heath (Lily May Peel)             1    0   \n",
                            "5           Allen, Mr. William Henry                                 3    1   \n",
                            "\n",
                            "                                                                 Age  SibSp  \\\n",
                            "PassengerId Name                                                              \n",
                            "1           Braund, Mr. Owen Harris                             22.0      1   \n",
                            "2           Cumings, Mrs. John Bradley (Florence Briggs Tha...  38.0      1   \n",
                            "3           Heikkinen, Miss. Laina                              26.0      0   \n",
                            "4           Futrelle, Mrs. Jacques Heath (Lily May Peel)        35.0      1   \n",
                            "5           Allen, Mr. William Henry                            35.0      0   \n",
                            "\n",
                            "                                                                Parch  \\\n",
                            "PassengerId Name                                                        \n",
                            "1           Braund, Mr. Owen Harris                                 0   \n",
                            "2           Cumings, Mrs. John Bradley (Florence Briggs Tha...      0   \n",
                            "3           Heikkinen, Miss. Laina                                  0   \n",
                            "4           Futrelle, Mrs. Jacques Heath (Lily May Peel)            0   \n",
                            "5           Allen, Mr. William Henry                                0   \n",
                            "\n",
                            "                                                                   Fare  \\\n",
                            "PassengerId Name                                                          \n",
                            "1           Braund, Mr. Owen Harris                              7.2500   \n",
                            "2           Cumings, Mrs. John Bradley (Florence Briggs Tha...  71.2833   \n",
                            "3           Heikkinen, Miss. Laina                               7.9250   \n",
                            "4           Futrelle, Mrs. Jacques Heath (Lily May Peel)        53.1000   \n",
                            "5           Allen, Mr. William Henry                             8.0500   \n",
                            "\n",
                            "                                                                Embarked  \n",
                            "PassengerId Name                                                          \n",
                            "1           Braund, Mr. Owen Harris                                    2  \n",
                            "2           Cumings, Mrs. John Bradley (Florence Briggs Tha...         0  \n",
                            "3           Heikkinen, Miss. Laina                                     2  \n",
                            "4           Futrelle, Mrs. Jacques Heath (Lily May Peel)               2  \n",
                            "5           Allen, Mr. William Henry                                   2  "
                        ]
                    },
                    "execution_count": 17,
                    "metadata": {},
                    "output_type": "execute_result"
                }
            ],
            "source": [
                "X.head()"
            ]
        },
        {
            "cell_type": "code",
            "execution_count": 18,
            "metadata": {},
            "outputs": [],
            "source": [
                "X_train,X_test,y_train,y_test=train_test_split(X,y,random_state=1107)"
            ]
        },
        {
            "cell_type": "code",
            "execution_count": 19,
            "metadata": {},
            "outputs": [
                {
                    "data": {
                        "text/plain": [
                            "0    0.616162\n",
                            "1    0.383838\n",
                            "Name: Survived, dtype: float64"
                        ]
                    },
                    "execution_count": 19,
                    "metadata": {},
                    "output_type": "execute_result"
                }
            ],
            "source": [
                "y.value_counts(normalize=True)"
            ]
        },
        {
            "cell_type": "code",
            "execution_count": 20,
            "metadata": {},
            "outputs": [],
            "source": [
                "classif=RandomForestClassifier(random_state=1107)"
            ]
        },
        {
            "cell_type": "code",
            "execution_count": 21,
            "metadata": {},
            "outputs": [
                {
                    "data": {
                        "text/html": [
                            "<style>#sk-container-id-1 {color: black;background-color: white;}#sk-container-id-1 pre{padding: 0;}#sk-container-id-1 div.sk-toggleable {background-color: white;}#sk-container-id-1 label.sk-toggleable__label {cursor: pointer;display: block;width: 100%;margin-bottom: 0;padding: 0.3em;box-sizing: border-box;text-align: center;}#sk-container-id-1 label.sk-toggleable__label-arrow:before {content: \"▸\";float: left;margin-right: 0.25em;color: #696969;}#sk-container-id-1 label.sk-toggleable__label-arrow:hover:before {color: black;}#sk-container-id-1 div.sk-estimator:hover label.sk-toggleable__label-arrow:before {color: black;}#sk-container-id-1 div.sk-toggleable__content {max-height: 0;max-width: 0;overflow: hidden;text-align: left;background-color: #f0f8ff;}#sk-container-id-1 div.sk-toggleable__content pre {margin: 0.2em;color: black;border-radius: 0.25em;background-color: #f0f8ff;}#sk-container-id-1 input.sk-toggleable__control:checked~div.sk-toggleable__content {max-height: 200px;max-width: 100%;overflow: auto;}#sk-container-id-1 input.sk-toggleable__control:checked~label.sk-toggleable__label-arrow:before {content: \"▾\";}#sk-container-id-1 div.sk-estimator input.sk-toggleable__control:checked~label.sk-toggleable__label {background-color: #d4ebff;}#sk-container-id-1 div.sk-label input.sk-toggleable__control:checked~label.sk-toggleable__label {background-color: #d4ebff;}#sk-container-id-1 input.sk-hidden--visually {border: 0;clip: rect(1px 1px 1px 1px);clip: rect(1px, 1px, 1px, 1px);height: 1px;margin: -1px;overflow: hidden;padding: 0;position: absolute;width: 1px;}#sk-container-id-1 div.sk-estimator {font-family: monospace;background-color: #f0f8ff;border: 1px dotted black;border-radius: 0.25em;box-sizing: border-box;margin-bottom: 0.5em;}#sk-container-id-1 div.sk-estimator:hover {background-color: #d4ebff;}#sk-container-id-1 div.sk-parallel-item::after {content: \"\";width: 100%;border-bottom: 1px solid gray;flex-grow: 1;}#sk-container-id-1 div.sk-label:hover label.sk-toggleable__label {background-color: #d4ebff;}#sk-container-id-1 div.sk-serial::before {content: \"\";position: absolute;border-left: 1px solid gray;box-sizing: border-box;top: 0;bottom: 0;left: 50%;z-index: 0;}#sk-container-id-1 div.sk-serial {display: flex;flex-direction: column;align-items: center;background-color: white;padding-right: 0.2em;padding-left: 0.2em;position: relative;}#sk-container-id-1 div.sk-item {position: relative;z-index: 1;}#sk-container-id-1 div.sk-parallel {display: flex;align-items: stretch;justify-content: center;background-color: white;position: relative;}#sk-container-id-1 div.sk-item::before, #sk-container-id-1 div.sk-parallel-item::before {content: \"\";position: absolute;border-left: 1px solid gray;box-sizing: border-box;top: 0;bottom: 0;left: 50%;z-index: -1;}#sk-container-id-1 div.sk-parallel-item {display: flex;flex-direction: column;z-index: 1;position: relative;background-color: white;}#sk-container-id-1 div.sk-parallel-item:first-child::after {align-self: flex-end;width: 50%;}#sk-container-id-1 div.sk-parallel-item:last-child::after {align-self: flex-start;width: 50%;}#sk-container-id-1 div.sk-parallel-item:only-child::after {width: 0;}#sk-container-id-1 div.sk-dashed-wrapped {border: 1px dashed gray;margin: 0 0.4em 0.5em 0.4em;box-sizing: border-box;padding-bottom: 0.4em;background-color: white;}#sk-container-id-1 div.sk-label label {font-family: monospace;font-weight: bold;display: inline-block;line-height: 1.2em;}#sk-container-id-1 div.sk-label-container {text-align: center;}#sk-container-id-1 div.sk-container {/* jupyter's `normalize.less` sets `[hidden] { display: none; }` but bootstrap.min.css set `[hidden] { display: none !important; }` so we also need the `!important` here to be able to override the default hidden behavior on the sphinx rendered scikit-learn.org. See: https://github.com/scikit-learn/scikit-learn/issues/21755 */display: inline-block !important;position: relative;}#sk-container-id-1 div.sk-text-repr-fallback {display: none;}</style><div id=\"sk-container-id-1\" class=\"sk-top-container\"><div class=\"sk-text-repr-fallback\"><pre>RandomForestClassifier(random_state=1107)</pre><b>In a Jupyter environment, please rerun this cell to show the HTML representation or trust the notebook. <br />On GitHub, the HTML representation is unable to render, please try loading this page with nbviewer.org.</b></div><div class=\"sk-container\" hidden><div class=\"sk-item\"><div class=\"sk-estimator sk-toggleable\"><input class=\"sk-toggleable__control sk-hidden--visually\" id=\"sk-estimator-id-1\" type=\"checkbox\" checked><label for=\"sk-estimator-id-1\" class=\"sk-toggleable__label sk-toggleable__label-arrow\">RandomForestClassifier</label><div class=\"sk-toggleable__content\"><pre>RandomForestClassifier(random_state=1107)</pre></div></div></div></div></div>"
                        ],
                        "text/plain": [
                            "RandomForestClassifier(random_state=1107)"
                        ]
                    },
                    "execution_count": 21,
                    "metadata": {},
                    "output_type": "execute_result"
                }
            ],
            "source": [
                "classif.fit(X_train,y_train)"
            ]
        },
        {
            "cell_type": "code",
            "execution_count": 22,
            "metadata": {},
            "outputs": [],
            "source": [
                "y_pred=classif.predict(X_test)"
            ]
        },
        {
            "cell_type": "code",
            "execution_count": 23,
            "metadata": {},
            "outputs": [
                {
                    "name": "stdout",
                    "output_type": "stream",
                    "text": [
                        "Classification report- First Model\n",
                        "              precision    recall  f1-score   support\n",
                        "\n",
                        "           0       0.84      0.90      0.87       141\n",
                        "           1       0.81      0.71      0.75        82\n",
                        "\n",
                        "    accuracy                           0.83       223\n",
                        "   macro avg       0.82      0.80      0.81       223\n",
                        "weighted avg       0.83      0.83      0.83       223\n",
                        "\n"
                    ]
                }
            ],
            "source": [
                "print('Classification report- First Model')\n",
                "print(classification_report(y_test,y_pred))"
            ]
        },
        {
            "cell_type": "code",
            "execution_count": 24,
            "metadata": {},
            "outputs": [
                {
                    "name": "stdout",
                    "output_type": "stream",
                    "text": [
                        "{'n_estimators': [200, 650, 1100, 1550, 2000], 'max_depth': [10, 35, 60, 85, 110, None], 'min_samples_split': [2, 5, 10], 'min_samples_leaf': [1, 2, 4], 'bootstrap': [True, False], 'criterion': ['gini', 'entropy'], 'class_weight': ['balanced', None]}\n"
                    ]
                }
            ],
            "source": [
                "# Number of trees in random forest\n",
                "n_estimators = [int(x) for x in np.linspace(start = 200, stop = 2000, num = 5)]\n",
                "# Number of features to consider at every split\n",
                "max_features = ['auto', 'sqrt']\n",
                "# Maximum number of levels in tree\n",
                "max_depth = [int(x) for x in np.linspace(10, 110, num = 5)]\n",
                "max_depth.append(None)\n",
                "# Minimum number of samples required to split a node\n",
                "min_samples_split = [2, 5, 10]\n",
                "# Minimum number of samples required at each leaf node\n",
                "min_samples_leaf = [1, 2, 4]\n",
                "# Method of selecting samples for training each tree\n",
                "bootstrap = [True, False]\n",
                "#Criterion for measure the quality of a split\n",
                "criterion=['gini','entropy']\n",
                "# class weight for unbalanced samples\n",
                "weight=['balanced', None]\n",
                "# Create the random grid\n",
                "random_grid = {'n_estimators': n_estimators,\n",
                "#'max_features': max_features, # Son muy pocas variables por lo cual no vale la pena aplicarlo\n",
                "'max_depth': max_depth,\n",
                "'min_samples_split': min_samples_split,\n",
                "'min_samples_leaf': min_samples_leaf,\n",
                "'bootstrap': bootstrap,\n",
                "'criterion':criterion,\n",
                "'class_weight':weight}\n",
                "print(random_grid)"
            ]
        },
        {
            "cell_type": "code",
            "execution_count": 25,
            "metadata": {},
            "outputs": [],
            "source": [
                "classif_grid=RandomForestClassifier(random_state=1107)\n",
                "classif_grid_random=RandomizedSearchCV(estimator=classif_grid,n_iter=100,cv=5,random_state=1107,param_distributions=random_grid)"
            ]
        },
        {
            "cell_type": "code",
            "execution_count": 27,
            "metadata": {},
            "outputs": [
                {
                    "data": {
                        "text/html": [
                            "<style>#sk-container-id-2 {color: black;background-color: white;}#sk-container-id-2 pre{padding: 0;}#sk-container-id-2 div.sk-toggleable {background-color: white;}#sk-container-id-2 label.sk-toggleable__label {cursor: pointer;display: block;width: 100%;margin-bottom: 0;padding: 0.3em;box-sizing: border-box;text-align: center;}#sk-container-id-2 label.sk-toggleable__label-arrow:before {content: \"▸\";float: left;margin-right: 0.25em;color: #696969;}#sk-container-id-2 label.sk-toggleable__label-arrow:hover:before {color: black;}#sk-container-id-2 div.sk-estimator:hover label.sk-toggleable__label-arrow:before {color: black;}#sk-container-id-2 div.sk-toggleable__content {max-height: 0;max-width: 0;overflow: hidden;text-align: left;background-color: #f0f8ff;}#sk-container-id-2 div.sk-toggleable__content pre {margin: 0.2em;color: black;border-radius: 0.25em;background-color: #f0f8ff;}#sk-container-id-2 input.sk-toggleable__control:checked~div.sk-toggleable__content {max-height: 200px;max-width: 100%;overflow: auto;}#sk-container-id-2 input.sk-toggleable__control:checked~label.sk-toggleable__label-arrow:before {content: \"▾\";}#sk-container-id-2 div.sk-estimator input.sk-toggleable__control:checked~label.sk-toggleable__label {background-color: #d4ebff;}#sk-container-id-2 div.sk-label input.sk-toggleable__control:checked~label.sk-toggleable__label {background-color: #d4ebff;}#sk-container-id-2 input.sk-hidden--visually {border: 0;clip: rect(1px 1px 1px 1px);clip: rect(1px, 1px, 1px, 1px);height: 1px;margin: -1px;overflow: hidden;padding: 0;position: absolute;width: 1px;}#sk-container-id-2 div.sk-estimator {font-family: monospace;background-color: #f0f8ff;border: 1px dotted black;border-radius: 0.25em;box-sizing: border-box;margin-bottom: 0.5em;}#sk-container-id-2 div.sk-estimator:hover {background-color: #d4ebff;}#sk-container-id-2 div.sk-parallel-item::after {content: \"\";width: 100%;border-bottom: 1px solid gray;flex-grow: 1;}#sk-container-id-2 div.sk-label:hover label.sk-toggleable__label {background-color: #d4ebff;}#sk-container-id-2 div.sk-serial::before {content: \"\";position: absolute;border-left: 1px solid gray;box-sizing: border-box;top: 0;bottom: 0;left: 50%;z-index: 0;}#sk-container-id-2 div.sk-serial {display: flex;flex-direction: column;align-items: center;background-color: white;padding-right: 0.2em;padding-left: 0.2em;position: relative;}#sk-container-id-2 div.sk-item {position: relative;z-index: 1;}#sk-container-id-2 div.sk-parallel {display: flex;align-items: stretch;justify-content: center;background-color: white;position: relative;}#sk-container-id-2 div.sk-item::before, #sk-container-id-2 div.sk-parallel-item::before {content: \"\";position: absolute;border-left: 1px solid gray;box-sizing: border-box;top: 0;bottom: 0;left: 50%;z-index: -1;}#sk-container-id-2 div.sk-parallel-item {display: flex;flex-direction: column;z-index: 1;position: relative;background-color: white;}#sk-container-id-2 div.sk-parallel-item:first-child::after {align-self: flex-end;width: 50%;}#sk-container-id-2 div.sk-parallel-item:last-child::after {align-self: flex-start;width: 50%;}#sk-container-id-2 div.sk-parallel-item:only-child::after {width: 0;}#sk-container-id-2 div.sk-dashed-wrapped {border: 1px dashed gray;margin: 0 0.4em 0.5em 0.4em;box-sizing: border-box;padding-bottom: 0.4em;background-color: white;}#sk-container-id-2 div.sk-label label {font-family: monospace;font-weight: bold;display: inline-block;line-height: 1.2em;}#sk-container-id-2 div.sk-label-container {text-align: center;}#sk-container-id-2 div.sk-container {/* jupyter's `normalize.less` sets `[hidden] { display: none; }` but bootstrap.min.css set `[hidden] { display: none !important; }` so we also need the `!important` here to be able to override the default hidden behavior on the sphinx rendered scikit-learn.org. See: https://github.com/scikit-learn/scikit-learn/issues/21755 */display: inline-block !important;position: relative;}#sk-container-id-2 div.sk-text-repr-fallback {display: none;}</style><div id=\"sk-container-id-2\" class=\"sk-top-container\"><div class=\"sk-text-repr-fallback\"><pre>RandomizedSearchCV(cv=5, estimator=RandomForestClassifier(random_state=1107),\n",
                            "                   n_iter=100,\n",
                            "                   param_distributions={&#x27;bootstrap&#x27;: [True, False],\n",
                            "                                        &#x27;class_weight&#x27;: [&#x27;balanced&#x27;, None],\n",
                            "                                        &#x27;criterion&#x27;: [&#x27;gini&#x27;, &#x27;entropy&#x27;],\n",
                            "                                        &#x27;max_depth&#x27;: [10, 35, 60, 85, 110,\n",
                            "                                                      None],\n",
                            "                                        &#x27;min_samples_leaf&#x27;: [1, 2, 4],\n",
                            "                                        &#x27;min_samples_split&#x27;: [2, 5, 10],\n",
                            "                                        &#x27;n_estimators&#x27;: [200, 650, 1100, 1550,\n",
                            "                                                         2000]},\n",
                            "                   random_state=1107)</pre><b>In a Jupyter environment, please rerun this cell to show the HTML representation or trust the notebook. <br />On GitHub, the HTML representation is unable to render, please try loading this page with nbviewer.org.</b></div><div class=\"sk-container\" hidden><div class=\"sk-item sk-dashed-wrapped\"><div class=\"sk-label-container\"><div class=\"sk-label sk-toggleable\"><input class=\"sk-toggleable__control sk-hidden--visually\" id=\"sk-estimator-id-2\" type=\"checkbox\" ><label for=\"sk-estimator-id-2\" class=\"sk-toggleable__label sk-toggleable__label-arrow\">RandomizedSearchCV</label><div class=\"sk-toggleable__content\"><pre>RandomizedSearchCV(cv=5, estimator=RandomForestClassifier(random_state=1107),\n",
                            "                   n_iter=100,\n",
                            "                   param_distributions={&#x27;bootstrap&#x27;: [True, False],\n",
                            "                                        &#x27;class_weight&#x27;: [&#x27;balanced&#x27;, None],\n",
                            "                                        &#x27;criterion&#x27;: [&#x27;gini&#x27;, &#x27;entropy&#x27;],\n",
                            "                                        &#x27;max_depth&#x27;: [10, 35, 60, 85, 110,\n",
                            "                                                      None],\n",
                            "                                        &#x27;min_samples_leaf&#x27;: [1, 2, 4],\n",
                            "                                        &#x27;min_samples_split&#x27;: [2, 5, 10],\n",
                            "                                        &#x27;n_estimators&#x27;: [200, 650, 1100, 1550,\n",
                            "                                                         2000]},\n",
                            "                   random_state=1107)</pre></div></div></div><div class=\"sk-parallel\"><div class=\"sk-parallel-item\"><div class=\"sk-item\"><div class=\"sk-label-container\"><div class=\"sk-label sk-toggleable\"><input class=\"sk-toggleable__control sk-hidden--visually\" id=\"sk-estimator-id-3\" type=\"checkbox\" ><label for=\"sk-estimator-id-3\" class=\"sk-toggleable__label sk-toggleable__label-arrow\">estimator: RandomForestClassifier</label><div class=\"sk-toggleable__content\"><pre>RandomForestClassifier(random_state=1107)</pre></div></div></div><div class=\"sk-serial\"><div class=\"sk-item\"><div class=\"sk-estimator sk-toggleable\"><input class=\"sk-toggleable__control sk-hidden--visually\" id=\"sk-estimator-id-4\" type=\"checkbox\" ><label for=\"sk-estimator-id-4\" class=\"sk-toggleable__label sk-toggleable__label-arrow\">RandomForestClassifier</label><div class=\"sk-toggleable__content\"><pre>RandomForestClassifier(random_state=1107)</pre></div></div></div></div></div></div></div></div></div></div>"
                        ],
                        "text/plain": [
                            "RandomizedSearchCV(cv=5, estimator=RandomForestClassifier(random_state=1107),\n",
                            "                   n_iter=100,\n",
                            "                   param_distributions={'bootstrap': [True, False],\n",
                            "                                        'class_weight': ['balanced', None],\n",
                            "                                        'criterion': ['gini', 'entropy'],\n",
                            "                                        'max_depth': [10, 35, 60, 85, 110,\n",
                            "                                                      None],\n",
                            "                                        'min_samples_leaf': [1, 2, 4],\n",
                            "                                        'min_samples_split': [2, 5, 10],\n",
                            "                                        'n_estimators': [200, 650, 1100, 1550,\n",
                            "                                                         2000]},\n",
                            "                   random_state=1107)"
                        ]
                    },
                    "execution_count": 27,
                    "metadata": {},
                    "output_type": "execute_result"
                }
            ],
            "source": [
                "classif_grid_random.fit(X_train,y_train)"
            ]
        },
        {
            "cell_type": "code",
            "execution_count": 28,
            "metadata": {},
            "outputs": [
                {
                    "name": "stdout",
                    "output_type": "stream",
                    "text": [
                        "The best model has the parameters: {'n_estimators': 1550, 'min_samples_split': 2, 'min_samples_leaf': 2, 'max_depth': 10, 'criterion': 'gini', 'class_weight': None, 'bootstrap': True}\n"
                    ]
                }
            ],
            "source": [
                "print('The best model has the parameters:',classif_grid_random.best_params_)"
            ]
        },
        {
            "cell_type": "code",
            "execution_count": 29,
            "metadata": {},
            "outputs": [],
            "source": [
                "best_clas=RandomForestClassifier(n_estimators= 1550,min_samples_split= 2,min_samples_leaf= 2,max_depth= 10,criterion= 'gini',\n",
                " bootstrap= True,class_weight=None)"
            ]
        },
        {
            "cell_type": "code",
            "execution_count": 30,
            "metadata": {},
            "outputs": [
                {
                    "data": {
                        "text/html": [
                            "<style>#sk-container-id-3 {color: black;background-color: white;}#sk-container-id-3 pre{padding: 0;}#sk-container-id-3 div.sk-toggleable {background-color: white;}#sk-container-id-3 label.sk-toggleable__label {cursor: pointer;display: block;width: 100%;margin-bottom: 0;padding: 0.3em;box-sizing: border-box;text-align: center;}#sk-container-id-3 label.sk-toggleable__label-arrow:before {content: \"▸\";float: left;margin-right: 0.25em;color: #696969;}#sk-container-id-3 label.sk-toggleable__label-arrow:hover:before {color: black;}#sk-container-id-3 div.sk-estimator:hover label.sk-toggleable__label-arrow:before {color: black;}#sk-container-id-3 div.sk-toggleable__content {max-height: 0;max-width: 0;overflow: hidden;text-align: left;background-color: #f0f8ff;}#sk-container-id-3 div.sk-toggleable__content pre {margin: 0.2em;color: black;border-radius: 0.25em;background-color: #f0f8ff;}#sk-container-id-3 input.sk-toggleable__control:checked~div.sk-toggleable__content {max-height: 200px;max-width: 100%;overflow: auto;}#sk-container-id-3 input.sk-toggleable__control:checked~label.sk-toggleable__label-arrow:before {content: \"▾\";}#sk-container-id-3 div.sk-estimator input.sk-toggleable__control:checked~label.sk-toggleable__label {background-color: #d4ebff;}#sk-container-id-3 div.sk-label input.sk-toggleable__control:checked~label.sk-toggleable__label {background-color: #d4ebff;}#sk-container-id-3 input.sk-hidden--visually {border: 0;clip: rect(1px 1px 1px 1px);clip: rect(1px, 1px, 1px, 1px);height: 1px;margin: -1px;overflow: hidden;padding: 0;position: absolute;width: 1px;}#sk-container-id-3 div.sk-estimator {font-family: monospace;background-color: #f0f8ff;border: 1px dotted black;border-radius: 0.25em;box-sizing: border-box;margin-bottom: 0.5em;}#sk-container-id-3 div.sk-estimator:hover {background-color: #d4ebff;}#sk-container-id-3 div.sk-parallel-item::after {content: \"\";width: 100%;border-bottom: 1px solid gray;flex-grow: 1;}#sk-container-id-3 div.sk-label:hover label.sk-toggleable__label {background-color: #d4ebff;}#sk-container-id-3 div.sk-serial::before {content: \"\";position: absolute;border-left: 1px solid gray;box-sizing: border-box;top: 0;bottom: 0;left: 50%;z-index: 0;}#sk-container-id-3 div.sk-serial {display: flex;flex-direction: column;align-items: center;background-color: white;padding-right: 0.2em;padding-left: 0.2em;position: relative;}#sk-container-id-3 div.sk-item {position: relative;z-index: 1;}#sk-container-id-3 div.sk-parallel {display: flex;align-items: stretch;justify-content: center;background-color: white;position: relative;}#sk-container-id-3 div.sk-item::before, #sk-container-id-3 div.sk-parallel-item::before {content: \"\";position: absolute;border-left: 1px solid gray;box-sizing: border-box;top: 0;bottom: 0;left: 50%;z-index: -1;}#sk-container-id-3 div.sk-parallel-item {display: flex;flex-direction: column;z-index: 1;position: relative;background-color: white;}#sk-container-id-3 div.sk-parallel-item:first-child::after {align-self: flex-end;width: 50%;}#sk-container-id-3 div.sk-parallel-item:last-child::after {align-self: flex-start;width: 50%;}#sk-container-id-3 div.sk-parallel-item:only-child::after {width: 0;}#sk-container-id-3 div.sk-dashed-wrapped {border: 1px dashed gray;margin: 0 0.4em 0.5em 0.4em;box-sizing: border-box;padding-bottom: 0.4em;background-color: white;}#sk-container-id-3 div.sk-label label {font-family: monospace;font-weight: bold;display: inline-block;line-height: 1.2em;}#sk-container-id-3 div.sk-label-container {text-align: center;}#sk-container-id-3 div.sk-container {/* jupyter's `normalize.less` sets `[hidden] { display: none; }` but bootstrap.min.css set `[hidden] { display: none !important; }` so we also need the `!important` here to be able to override the default hidden behavior on the sphinx rendered scikit-learn.org. See: https://github.com/scikit-learn/scikit-learn/issues/21755 */display: inline-block !important;position: relative;}#sk-container-id-3 div.sk-text-repr-fallback {display: none;}</style><div id=\"sk-container-id-3\" class=\"sk-top-container\"><div class=\"sk-text-repr-fallback\"><pre>RandomForestClassifier(max_depth=10, min_samples_leaf=2, n_estimators=1550)</pre><b>In a Jupyter environment, please rerun this cell to show the HTML representation or trust the notebook. <br />On GitHub, the HTML representation is unable to render, please try loading this page with nbviewer.org.</b></div><div class=\"sk-container\" hidden><div class=\"sk-item\"><div class=\"sk-estimator sk-toggleable\"><input class=\"sk-toggleable__control sk-hidden--visually\" id=\"sk-estimator-id-5\" type=\"checkbox\" checked><label for=\"sk-estimator-id-5\" class=\"sk-toggleable__label sk-toggleable__label-arrow\">RandomForestClassifier</label><div class=\"sk-toggleable__content\"><pre>RandomForestClassifier(max_depth=10, min_samples_leaf=2, n_estimators=1550)</pre></div></div></div></div></div>"
                        ],
                        "text/plain": [
                            "RandomForestClassifier(max_depth=10, min_samples_leaf=2, n_estimators=1550)"
                        ]
                    },
                    "execution_count": 30,
                    "metadata": {},
                    "output_type": "execute_result"
                }
            ],
            "source": [
                "best_clas.fit(X_train,y_train)"
            ]
        },
        {
            "cell_type": "code",
            "execution_count": 31,
            "metadata": {},
            "outputs": [],
            "source": [
                "y_pred_best=best_clas.predict(X_test)"
            ]
        },
        {
            "cell_type": "code",
            "execution_count": 32,
            "metadata": {},
            "outputs": [
                {
                    "name": "stdout",
                    "output_type": "stream",
                    "text": [
                        "Classification report- Best Model\n",
                        "              precision    recall  f1-score   support\n",
                        "\n",
                        "           0       0.85      0.93      0.89       141\n",
                        "           1       0.85      0.71      0.77        82\n",
                        "\n",
                        "    accuracy                           0.85       223\n",
                        "   macro avg       0.85      0.82      0.83       223\n",
                        "weighted avg       0.85      0.85      0.84       223\n",
                        "\n"
                    ]
                }
            ],
            "source": [
                "print('Classification report- Best Model')\n",
                "print(classification_report(y_test,y_pred_best))"
            ]
        },
        {
            "cell_type": "code",
            "execution_count": 33,
            "metadata": {},
            "outputs": [
                {
                    "data": {
                        "image/png": "[encoded data removed]",
                        "text/plain": [
                            "<Figure size 640x480 with 1 Axes>"
                        ]
                    },
                    "metadata": {},
                    "output_type": "display_data"
                }
            ],
            "source": [
                "importances = best_clas.feature_importances_\n",
                "std = np.std([tree.feature_importances_ for tree in best_clas.estimators_], axis=0)\n",
                "#feature_names = [f\"feature {i}\" for i in range(X.shape[1])]\n",
                "feature_names = X.columns\n",
                "forest_importances = pd.Series(importances, index=feature_names)\n",
                "\n",
                "fig, ax = plt.subplots()\n",
                "forest_importances.plot.bar(yerr=std, ax=ax)\n",
                "ax.set_title(\"Feature importances using MDI\")\n",
                "ax.set_ylabel(\"Mean decrease in impurity\")\n",
                "fig.tight_layout()"
            ]
        },
        {
            "cell_type": "code",
            "execution_count": 35,
            "metadata": {},
            "outputs": [],
            "source": [
                "import pickle\n",
                "filename = '/workspace/Random-Forest/models/finalized_model.sav'\n",
                "pickle.dump(best_clas, open(filename, 'wb'))"
            ]
        },
        {
            "cell_type": "code",
            "execution_count": 36,
            "metadata": {},
            "outputs": [],
            "source": [
                "# Se transforman las dos muestras a fromato DMatrix\n",
                "D_train = xgb.DMatrix(X_train, label=y_train)\n",
                "D_test = xgb.DMatrix(X_test, label=y_test)"
            ]
        },
        {
            "cell_type": "code",
            "execution_count": 37,
            "metadata": {},
            "outputs": [],
            "source": [
                "param = {\n",
                "    'objective': 'binary:hinge'}\n",
                "steps=20\n",
                "clf_xgb = xgb.train(param, D_train, steps)\n",
                "preds_xgb = clf_xgb.predict(D_test)"
            ]
        },
        {
            "cell_type": "code",
            "execution_count": 38,
            "metadata": {},
            "outputs": [
                {
                    "name": "stdout",
                    "output_type": "stream",
                    "text": [
                        "Classification report- XGBoost\n",
                        "              precision    recall  f1-score   support\n",
                        "\n",
                        "           0       0.84      0.89      0.87       141\n",
                        "           1       0.79      0.71      0.75        82\n",
                        "\n",
                        "    accuracy                           0.83       223\n",
                        "   macro avg       0.82      0.80      0.81       223\n",
                        "weighted avg       0.82      0.83      0.82       223\n",
                        "\n"
                    ]
                }
            ],
            "source": [
                "print('Classification report- XGBoost')\n",
                "print(classification_report(y_test,preds_xgb))"
            ]
        },
        {
            "cell_type": "code",
            "execution_count": null,
            "metadata": {},
            "outputs": [],
            "source": [
                "xgb.plot_importance(clf_xgb)"
            ]
        },
        {
            "cell_type": "code",
            "execution_count": 39,
            "metadata": {},
            "outputs": [],
            "source": [
                "clf = xgb.XGBClassifier()\n",
                "\n",
                "parameters = {\n",
                "     \"eta\"    : [0.05, 0.15, 0.30 ] ,\n",
                "     \"max_depth\"        : [ 3, 6, 15],\n",
                "     \"min_child_weight\" : [ 1, 7],\n",
                "     \"gamma\"            : [ 0.0, 0.4 ],\n",
                "     \"colsample_bytree\" : [ 0.3, 0.7 ]\n",
                "     }\n",
                "\n",
                "grid = GridSearchCV(clf,\n",
                "                    parameters, n_jobs=4,\n",
                "                    scoring=\"neg_log_loss\",\n",
                "                    cv=3)"
            ]
        },
        {
            "cell_type": "code",
            "execution_count": 40,
            "metadata": {},
            "outputs": [
                {
                    "data": {
                        "text/html": [
                            "<style>#sk-container-id-4 {color: black;background-color: white;}#sk-container-id-4 pre{padding: 0;}#sk-container-id-4 div.sk-toggleable {background-color: white;}#sk-container-id-4 label.sk-toggleable__label {cursor: pointer;display: block;width: 100%;margin-bottom: 0;padding: 0.3em;box-sizing: border-box;text-align: center;}#sk-container-id-4 label.sk-toggleable__label-arrow:before {content: \"▸\";float: left;margin-right: 0.25em;color: #696969;}#sk-container-id-4 label.sk-toggleable__label-arrow:hover:before {color: black;}#sk-container-id-4 div.sk-estimator:hover label.sk-toggleable__label-arrow:before {color: black;}#sk-container-id-4 div.sk-toggleable__content {max-height: 0;max-width: 0;overflow: hidden;text-align: left;background-color: #f0f8ff;}#sk-container-id-4 div.sk-toggleable__content pre {margin: 0.2em;color: black;border-radius: 0.25em;background-color: #f0f8ff;}#sk-container-id-4 input.sk-toggleable__control:checked~div.sk-toggleable__content {max-height: 200px;max-width: 100%;overflow: auto;}#sk-container-id-4 input.sk-toggleable__control:checked~label.sk-toggleable__label-arrow:before {content: \"▾\";}#sk-container-id-4 div.sk-estimator input.sk-toggleable__control:checked~label.sk-toggleable__label {background-color: #d4ebff;}#sk-container-id-4 div.sk-label input.sk-toggleable__control:checked~label.sk-toggleable__label {background-color: #d4ebff;}#sk-container-id-4 input.sk-hidden--visually {border: 0;clip: rect(1px 1px 1px 1px);clip: rect(1px, 1px, 1px, 1px);height: 1px;margin: -1px;overflow: hidden;padding: 0;position: absolute;width: 1px;}#sk-container-id-4 div.sk-estimator {font-family: monospace;background-color: #f0f8ff;border: 1px dotted black;border-radius: 0.25em;box-sizing: border-box;margin-bottom: 0.5em;}#sk-container-id-4 div.sk-estimator:hover {background-color: #d4ebff;}#sk-container-id-4 div.sk-parallel-item::after {content: \"\";width: 100%;border-bottom: 1px solid gray;flex-grow: 1;}#sk-container-id-4 div.sk-label:hover label.sk-toggleable__label {background-color: #d4ebff;}#sk-container-id-4 div.sk-serial::before {content: \"\";position: absolute;border-left: 1px solid gray;box-sizing: border-box;top: 0;bottom: 0;left: 50%;z-index: 0;}#sk-container-id-4 div.sk-serial {display: flex;flex-direction: column;align-items: center;background-color: white;padding-right: 0.2em;padding-left: 0.2em;position: relative;}#sk-container-id-4 div.sk-item {position: relative;z-index: 1;}#sk-container-id-4 div.sk-parallel {display: flex;align-items: stretch;justify-content: center;background-color: white;position: relative;}#sk-container-id-4 div.sk-item::before, #sk-container-id-4 div.sk-parallel-item::before {content: \"\";position: absolute;border-left: 1px solid gray;box-sizing: border-box;top: 0;bottom: 0;left: 50%;z-index: -1;}#sk-container-id-4 div.sk-parallel-item {display: flex;flex-direction: column;z-index: 1;position: relative;background-color: white;}#sk-container-id-4 div.sk-parallel-item:first-child::after {align-self: flex-end;width: 50%;}#sk-container-id-4 div.sk-parallel-item:last-child::after {align-self: flex-start;width: 50%;}#sk-container-id-4 div.sk-parallel-item:only-child::after {width: 0;}#sk-container-id-4 div.sk-dashed-wrapped {border: 1px dashed gray;margin: 0 0.4em 0.5em 0.4em;box-sizing: border-box;padding-bottom: 0.4em;background-color: white;}#sk-container-id-4 div.sk-label label {font-family: monospace;font-weight: bold;display: inline-block;line-height: 1.2em;}#sk-container-id-4 div.sk-label-container {text-align: center;}#sk-container-id-4 div.sk-container {/* jupyter's `normalize.less` sets `[hidden] { display: none; }` but bootstrap.min.css set `[hidden] { display: none !important; }` so we also need the `!important` here to be able to override the default hidden behavior on the sphinx rendered scikit-learn.org. See: https://github.com/scikit-learn/scikit-learn/issues/21755 */display: inline-block !important;position: relative;}#sk-container-id-4 div.sk-text-repr-fallback {display: none;}</style><div id=\"sk-container-id-4\" class=\"sk-top-container\"><div class=\"sk-text-repr-fallback\"><pre>GridSearchCV(cv=3,\n",
                            "             estimator=XGBClassifier(base_score=None, booster=None,\n",
                            "                                     callbacks=None, colsample_bylevel=None,\n",
                            "                                     colsample_bynode=None,\n",
                            "                                     colsample_bytree=None,\n",
                            "                                     early_stopping_rounds=None,\n",
                            "                                     enable_categorical=False, eval_metric=None,\n",
                            "                                     gamma=None, gpu_id=None, grow_policy=None,\n",
                            "                                     importance_type=None,\n",
                            "                                     interaction_constraints=None,\n",
                            "                                     learning_rate=None, max_bin=None,\n",
                            "                                     max_ca...\n",
                            "                                     max_leaves=None, min_child_weight=None,\n",
                            "                                     missing=nan, monotone_constraints=None,\n",
                            "                                     n_estimators=100, n_jobs=None,\n",
                            "                                     num_parallel_tree=None, predictor=None,\n",
                            "                                     random_state=None, reg_alpha=None,\n",
                            "                                     reg_lambda=None, ...),\n",
                            "             n_jobs=4,\n",
                            "             param_grid={&#x27;colsample_bytree&#x27;: [0.3, 0.7],\n",
                            "                         &#x27;eta&#x27;: [0.05, 0.15, 0.3], &#x27;gamma&#x27;: [0.0, 0.4],\n",
                            "                         &#x27;max_depth&#x27;: [3, 6, 15], &#x27;min_child_weight&#x27;: [1, 7]},\n",
                            "             scoring=&#x27;neg_log_loss&#x27;)</pre><b>In a Jupyter environment, please rerun this cell to show the HTML representation or trust the notebook. <br />On GitHub, the HTML representation is unable to render, please try loading this page with nbviewer.org.</b></div><div class=\"sk-container\" hidden><div class=\"sk-item sk-dashed-wrapped\"><div class=\"sk-label-container\"><div class=\"sk-label sk-toggleable\"><input class=\"sk-toggleable__control sk-hidden--visually\" id=\"sk-estimator-id-6\" type=\"checkbox\" ><label for=\"sk-estimator-id-6\" class=\"sk-toggleable__label sk-toggleable__label-arrow\">GridSearchCV</label><div class=\"sk-toggleable__content\"><pre>GridSearchCV(cv=3,\n",
                            "             estimator=XGBClassifier(base_score=None, booster=None,\n",
                            "                                     callbacks=None, colsample_bylevel=None,\n",
                            "                                     colsample_bynode=None,\n",
                            "                                     colsample_bytree=None,\n",
                            "                                     early_stopping_rounds=None,\n",
                            "                                     enable_categorical=False, eval_metric=None,\n",
                            "                                     gamma=None, gpu_id=None, grow_policy=None,\n",
                            "                                     importance_type=None,\n",
                            "                                     interaction_constraints=None,\n",
                            "                                     learning_rate=None, max_bin=None,\n",
                            "                                     max_ca...\n",
                            "                                     max_leaves=None, min_child_weight=None,\n",
                            "                                     missing=nan, monotone_constraints=None,\n",
                            "                                     n_estimators=100, n_jobs=None,\n",
                            "                                     num_parallel_tree=None, predictor=None,\n",
                            "                                     random_state=None, reg_alpha=None,\n",
                            "                                     reg_lambda=None, ...),\n",
                            "             n_jobs=4,\n",
                            "             param_grid={&#x27;colsample_bytree&#x27;: [0.3, 0.7],\n",
                            "                         &#x27;eta&#x27;: [0.05, 0.15, 0.3], &#x27;gamma&#x27;: [0.0, 0.4],\n",
                            "                         &#x27;max_depth&#x27;: [3, 6, 15], &#x27;min_child_weight&#x27;: [1, 7]},\n",
                            "             scoring=&#x27;neg_log_loss&#x27;)</pre></div></div></div><div class=\"sk-parallel\"><div class=\"sk-parallel-item\"><div class=\"sk-item\"><div class=\"sk-label-container\"><div class=\"sk-label sk-toggleable\"><input class=\"sk-toggleable__control sk-hidden--visually\" id=\"sk-estimator-id-7\" type=\"checkbox\" ><label for=\"sk-estimator-id-7\" class=\"sk-toggleable__label sk-toggleable__label-arrow\">estimator: XGBClassifier</label><div class=\"sk-toggleable__content\"><pre>XGBClassifier(base_score=None, booster=None, callbacks=None,\n",
                            "              colsample_bylevel=None, colsample_bynode=None,\n",
                            "              colsample_bytree=None, early_stopping_rounds=None,\n",
                            "              enable_categorical=False, eval_metric=None, gamma=None,\n",
                            "              gpu_id=None, grow_policy=None, importance_type=None,\n",
                            "              interaction_constraints=None, learning_rate=None, max_bin=None,\n",
                            "              max_cat_to_onehot=None, max_delta_step=None, max_depth=None,\n",
                            "              max_leaves=None, min_child_weight=None, missing=nan,\n",
                            "              monotone_constraints=None, n_estimators=100, n_jobs=None,\n",
                            "              num_parallel_tree=None, predictor=None, random_state=None,\n",
                            "              reg_alpha=None, reg_lambda=None, ...)</pre></div></div></div><div class=\"sk-serial\"><div class=\"sk-item\"><div class=\"sk-estimator sk-toggleable\"><input class=\"sk-toggleable__control sk-hidden--visually\" id=\"sk-estimator-id-8\" type=\"checkbox\" ><label for=\"sk-estimator-id-8\" class=\"sk-toggleable__label sk-toggleable__label-arrow\">XGBClassifier</label><div class=\"sk-toggleable__content\"><pre>XGBClassifier(base_score=None, booster=None, callbacks=None,\n",
                            "              colsample_bylevel=None, colsample_bynode=None,\n",
                            "              colsample_bytree=None, early_stopping_rounds=None,\n",
                            "              enable_categorical=False, eval_metric=None, gamma=None,\n",
                            "              gpu_id=None, grow_policy=None, importance_type=None,\n",
                            "              interaction_constraints=None, learning_rate=None, max_bin=None,\n",
                            "              max_cat_to_onehot=None, max_delta_step=None, max_depth=None,\n",
                            "              max_leaves=None, min_child_weight=None, missing=nan,\n",
                            "              monotone_constraints=None, n_estimators=100, n_jobs=None,\n",
                            "              num_parallel_tree=None, predictor=None, random_state=None,\n",
                            "              reg_alpha=None, reg_lambda=None, ...)</pre></div></div></div></div></div></div></div></div></div></div>"
                        ],
                        "text/plain": [
                            "GridSearchCV(cv=3,\n",
                            "             estimator=XGBClassifier(base_score=None, booster=None,\n",
                            "                                     callbacks=None, colsample_bylevel=None,\n",
                            "                                     colsample_bynode=None,\n",
                            "                                     colsample_bytree=None,\n",
                            "                                     early_stopping_rounds=None,\n",
                            "                                     enable_categorical=False, eval_metric=None,\n",
                            "                                     gamma=None, gpu_id=None, grow_policy=None,\n",
                            "                                     importance_type=None,\n",
                            "                                     interaction_constraints=None,\n",
                            "                                     learning_rate=None, max_bin=None,\n",
                            "                                     max_ca...\n",
                            "                                     max_leaves=None, min_child_weight=None,\n",
                            "                                     missing=nan, monotone_constraints=None,\n",
                            "                                     n_estimators=100, n_jobs=None,\n",
                            "                                     num_parallel_tree=None, predictor=None,\n",
                            "                                     random_state=None, reg_alpha=None,\n",
                            "                                     reg_lambda=None, ...),\n",
                            "             n_jobs=4,\n",
                            "             param_grid={'colsample_bytree': [0.3, 0.7],\n",
                            "                         'eta': [0.05, 0.15, 0.3], 'gamma': [0.0, 0.4],\n",
                            "                         'max_depth': [3, 6, 15], 'min_child_weight': [1, 7]},\n",
                            "             scoring='neg_log_loss')"
                        ]
                    },
                    "execution_count": 40,
                    "metadata": {},
                    "output_type": "execute_result"
                }
            ],
            "source": [
                "grid.fit(X_train, y_train)"
            ]
        },
        {
            "cell_type": "code",
            "execution_count": 41,
            "metadata": {},
            "outputs": [],
            "source": [
                "grid.best_params_['objective']= 'binary:hinge'"
            ]
        },
        {
            "cell_type": "code",
            "execution_count": 42,
            "metadata": {},
            "outputs": [
                {
                    "name": "stdout",
                    "output_type": "stream",
                    "text": [
                        "The best model has the parameters: {'colsample_bytree': 0.7, 'eta': 0.05, 'gamma': 0.4, 'max_depth': 3, 'min_child_weight': 1, 'objective': 'binary:hinge'}\n"
                    ]
                }
            ],
            "source": [
                "print('The best model has the parameters:',grid.best_params_)"
            ]
        },
        {
            "cell_type": "code",
            "execution_count": 43,
            "metadata": {},
            "outputs": [],
            "source": [
                "best_clf_xgb=xgb.XGBClassifier(**grid.best_params_)\n",
                "best_clf_xgb.fit(X_train,y_train)\n",
                "best_xgb_pred=best_clf_xgb.predict(X_test)"
            ]
        },
        {
            "cell_type": "code",
            "execution_count": 44,
            "metadata": {},
            "outputs": [
                {
                    "name": "stdout",
                    "output_type": "stream",
                    "text": [
                        "Classification report- Best XGBoost\n",
                        "              precision    recall  f1-score   support\n",
                        "\n",
                        "           0       0.85      0.87      0.86       141\n",
                        "           1       0.76      0.73      0.75        82\n",
                        "\n",
                        "    accuracy                           0.82       223\n",
                        "   macro avg       0.80      0.80      0.80       223\n",
                        "weighted avg       0.81      0.82      0.82       223\n",
                        "\n"
                    ]
                }
            ],
            "source": [
                "print('Classification report- Best XGBoost')\n",
                "print(classification_report(y_test,best_xgb_pred))"
            ]
        },
        {
            "cell_type": "code",
            "execution_count": null,
            "metadata": {},
            "outputs": [],
            "source": [
                "\n",
                "filename = '/workspace/Random-Forest/models/finalized_model_XGB.sav'\n",
                "pickle.dump(best_clas, open(filename, 'wb'))"
            ]
        }
    ],
    "metadata": {
        "kernelspec": {
            "display_name": "Python 3.8.13 64-bit ('3.8.13')",
            "language": "python",
            "name": "python3"
        },
        "language_info": {
            "codemirror_mode": {
                "name": "ipython",
                "version": 3
            },
            "file_extension": ".py",
            "mimetype": "text/x-python",
            "name": "python",
            "nbconvert_exporter": "python",
            "pygments_lexer": "ipython3",
            "version": "3.8.13"
        },
        "orig_nbformat": 4,
        "vscode": {
            "interpreter": {
                "hash": "110cc1dee26208153f2972f08a2ad52b6a56238dc66d48e87fb757ef2996db56"
            }
        }
    },
    "nbformat": 4,
    "nbformat_minor": 2
}
